{
 "cells": [
  {
   "cell_type": "markdown",
   "id": "ba54530c",
   "metadata": {},
   "source": [
    "# Mosquito arms\n",
    "\n"
   ]
  },
  {
   "cell_type": "code",
   "execution_count": null,
   "id": "ac082bce",
   "metadata": {},
   "outputs": [],
   "source": [
    "# Don't change this cell; just run it.\n",
    "import numpy as np  # The array library.\n",
    "\n",
    "import pandas as pd\n",
    "# Safe setting for Pandas.\n",
    "pd.set_option('mode.copy_on_write', True)\n",
    "\n",
    "import matplotlib.pyplot as plt\n",
    "%matplotlib inline"
   ]
  },
  {
   "cell_type": "markdown",
   "id": "d32ad055",
   "metadata": {},
   "source": [
    "## The data\n",
    "\n",
    "You will analyze data from a study involving mosquitoes and beer. The paper describing the data is [Beer Consumption Increases Human\n",
    "Attractiveness to Malaria\n",
    "Mosquitoes](https://doi.org/10.1371/journal.pone.0009546).\n",
    "\n",
    "The first author, Dr [Thierry Lefèvre](https://sites.google.com/site/thierryelefevre), kindly sent the original data.\n",
    "\n",
    "He released the data and derivatives under the [CC-BY](https://creativecommons.org/licenses/by/4.0) license.  Specifically, you should attribute any copies of these data to Dr Thierry Lefèvre, and reference the paper above.\n",
    "\n",
    "The processed data are in `./data/mosquito_beer.csv`.\n",
    "\n",
    "Variables in that file are:\n",
    "\n",
    "* `volunteer`: 43 levels corresponding to the id of the 43\n",
    "  volunteers.\n",
    "* `group`: 2 levels \"beer\" or \"water\" (= volunteers were\n",
    "  assigned to either the beer (volunteer 1 to 25) or the water\n",
    "  treatment (volunteer 26 to 43).\n",
    "* `test`: 2 levels \"after\" or \"before\"  (the attractiveness of\n",
    "  each volunteer was tested twice: before drinking and 15 min\n",
    "  after drinking either water or beer).\n",
    "* `nb_relased`: nb of released mosquitoes (n=50 for each test\n",
    "  and group).\n",
    "* `no_odour`: nb of caught mosquitoes in the \"no_odour control\n",
    "  trap\".\n",
    "* `volunt_odour`: nb of caught mosquitoes in the volunteer odour\n",
    "  trap.\n",
    "* `activated`: number of trapped mosquitoes (= `no_odour` +\n",
    "  `volunt_odour`).\n",
    "* `co2no`: CO2 concentration in the no odour trap.\n",
    "* `co2od`: CO2 concentration in the volunteer odour trap.\n",
    "* `temp`: body temperature of the volunteer.\n",
    "* `trapside`: 2 levels (A or B) this is the side of the\n",
    "  volunteer odour treatment in the Y-olfactometer (volunteer\n",
    "  odour on the right side: A or on the left side: B)\n",
    "* `datetime`: date / time of the corresponding test run.\n",
    "\n",
    "To read in the data:"
   ]
  },
  {
   "cell_type": "code",
   "execution_count": null,
   "id": "82ffd5cc",
   "metadata": {},
   "outputs": [],
   "source": [
    "mosquitoes = pd.read_csv(\"../data/mosquito_beer.csv\")\n",
    "mosquitoes.head()"
   ]
  },
  {
   "cell_type": "markdown",
   "id": "3521da01-17f1-4441-a0ae-9edc5219dca2",
   "metadata": {},
   "source": [
    "## The \n",
    "\n",
    "These variables were derived from a full experimental setup that was quite sophisticated. Here is the graphic from the paper:\n",
    "\n",
    "![](experimental_setup.png)\n",
    "\n",
    "For each trial, there were two tents.\n",
    "\n",
    "* One tent was empty (the *control* tent).\n",
    "* The other tent contained a person (the *volunteer* tent).\n",
    "* A tube led from each tent to a corresponding *trap* box. Thus, there was a\n",
    "  *control trap* box and a *volunteer trap* box.\n",
    "* A tube from each trap box fed into an arm of a Y connector.\n",
    "* The remaining, third arm of the Y led to a *downwind box* containing 50\n",
    "  mosquitoes.\n",
    "* At the beginning of the trial, the experimenters opened the *downwind box*\n",
    "  of mosquitoes, so the mosquitoes could fly out into the Y connector, and\n",
    "  thence, into either of the *trap* boxes.\n",
    "* The number of mosquitoes who flew into the *control trap* box gives the\n",
    "  values for the `no_odour` column.\n",
    "* The number of mosquitoes who flew into the *volunteer trap* box gives the\n",
    "  values for the `volunt_odour` column.\n",
    "* The total number of mosquitoes who flew into either the trap box gives\n",
    "  the values for the `activated` column."
   ]
  },
  {
   "cell_type": "markdown",
   "id": "5c32cc5f-2e55-4b82-9d49-57c7d6eb4071",
   "metadata": {},
   "source": [
    "## Research question\n",
    "\n",
    "The authors studied **whether people who had drunk beer were more attractive to mosquitoes.**\n",
    "\n",
    "You too will study this. Firts, you will first filter the data frame to contain only the \"after\" treatment rows. Each row corresponds to one person in the study. The number for each subject was the number of mosquitoes flying towards them. The subjects were from two groups: people who had just drunk beer, and people who had just drunk water. There were 25 subjects who had drunk beer, and therefore, 25 numbers of mosquitoes corresponding to the \"beer\" group. There were 18 subjects who had drunk water, and 18 numbers corresponding to the \"water\" group.\n",
    "\n",
    "Get the numbers of mosquitoes flying towards the beer drinkers, and towards the water drinkers, after they had drunk their beer or water."
   ]
  },
  {
   "cell_type": "code",
   "execution_count": null,
   "id": "245d52ae-51d9-424e-9dc2-5bf8948c7eb4",
   "metadata": {},
   "outputs": [],
   "source": [
    "after_rows = mosquitoes[mosquitoes['test'] == 'after']\n",
    "beer_rows = ... \n",
    "beer_activated = ...\n",
    "water_rows = ... \n",
    "water_activated = "
   ]
  },
  {
   "cell_type": "markdown",
   "id": "27fc3781-7a1b-41d3-8849-32a2c94742a5",
   "metadata": {},
   "source": [
    "Check that there are 25 values in the beer group, and 18 in the water group:"
   ]
  },
  {
   "cell_type": "code",
   "execution_count": null,
   "id": "a5a0ac77-1043-4a30-8ba3-45533fcdb7be",
   "metadata": {},
   "outputs": [],
   "source": [
    "print('Number in beer group:', len(beer_activated))\n",
    "print('Number in water group:', len(water_activated))"
   ]
  },
  {
   "cell_type": "markdown",
   "id": "dc0e8a71-8cf4-463f-a85e-fc4d3ac4aa55",
   "metadata": {},
   "source": [
    "We are interested in the difference between the means of these numbers, which you can check here:"
   ]
  },
  {
   "cell_type": "code",
   "execution_count": null,
   "id": "42d52bc3-b0f6-4716-923c-e15ab38dd32c",
   "metadata": {},
   "outputs": [],
   "source": [
    "observed_difference = np.mean(beer_activated) - np.mean(water_activated)\n",
    "observed_difference"
   ]
  },
  {
   "cell_type": "markdown",
   "id": "14bf8a42-e71e-41d6-8c49-81217ed24fe6",
   "metadata": {},
   "source": [
    "## Testing for a difference\n",
    "\n",
    "Your task is to conduct a relevant statistical test to address the research question \"does drinking beer make people more attractive to mosquitoes?\"\n",
    "\n",
    "For this, you should:\n",
    "1) state your hypotheses\n",
    "2) specify any assumptions\n",
    "3) conduct the test\n",
    "4) report the results\n",
    "5) draw a conclusion\n",
    "\n",
    "To achieve full marks, you should comment on how you could better answer the question, making use of  variables already provided in the dataset."
   ]
  },
  {
   "cell_type": "markdown",
   "id": "03badc21",
   "metadata": {},
   "source": [
    "## A check\n",
    "\n",
    "From what we have said above, you might assume that the mosquitoes who left\n",
    "their box (`activated` number) would always equal the number of who flew to\n",
    "the `no_odour` arm plus the number who flew to the `volunt_odour` arm.\n",
    "\n",
    "Check this by adding the values in `no_odour` to those in `volunt_odour`, then\n",
    "comparing them for equality, to the `activated` numbers.  Finally count the\n",
    "number of values where you got True for this comparison.  It should be the\n",
    "same as the number of rows in the data frame - if this relationship holds for\n",
    "all rows."
   ]
  },
  {
   "cell_type": "code",
   "execution_count": null,
   "id": "4084e491",
   "metadata": {},
   "outputs": [],
   "source": [
    "n_same = ...\n",
    "# Show the result\n",
    "n_same"
   ]
  },
  {
   "cell_type": "code",
   "execution_count": null,
   "id": "50ac146e",
   "metadata": {},
   "outputs": [],
   "source": [
    "_ = ok.grade('q_n_same')"
   ]
  },
  {
   "cell_type": "markdown",
   "id": "6441ab7c",
   "metadata": {},
   "source": [
    "## Another test for beer\n",
    "\n",
    "A comparison of interest to the authors was the difference between the number\n",
    "of mosquitoes that flew towards the volunteer and the number that flew towards\n",
    "the empty tent.\n",
    "\n",
    "In the next cell, first select the rows corresponding to the trials for\n",
    "volunteers after they had had their allocated drink.  Call this new DataFrame\n",
    "`afters`.\n",
    "\n",
    "Next make a new column in the resulting `afters` DataFrame. Call the column\n",
    "`volunt_diff`.  The column should have the result of the subtraction of the\n",
    "numbers in `no_odour` from those in `volunt_odour`."
   ]
  },
  {
   "cell_type": "code",
   "execution_count": null,
   "id": "ecef9d38",
   "metadata": {},
   "outputs": [],
   "source": [
    "#- Select the rows corresponding to the \"after\" phase of the experiment.\n",
    "afters = ...\n",
    "#- Make a new column in \"afters\" called \"volunt_diff\" (see above).\n",
    "afters..."
   ]
  },
  {
   "cell_type": "code",
   "execution_count": null,
   "id": "01436fb6",
   "metadata": {},
   "outputs": [],
   "source": [
    "_ = ok.grade('q_afters')"
   ]
  },
  {
   "cell_type": "markdown",
   "id": "170d082c",
   "metadata": {},
   "source": [
    "Make an array from the `volunt_diff` values for the rows corresponding to the\n",
    "`beer` drinkers and another for the rows corresponding to the water drinkers.\n",
    "Call these arrays `after_beer_vd` and `after_water_vd` respectively."
   ]
  },
  {
   "cell_type": "code",
   "execution_count": null,
   "id": "a0be72ba",
   "metadata": {},
   "outputs": [],
   "source": [
    "after_beer_vd = ...\n",
    "after_water_vd = ...\n",
    "# Show the results\n",
    "print(after_beer_vd)\n",
    "print(after_water_vd)"
   ]
  },
  {
   "cell_type": "code",
   "execution_count": null,
   "id": "a26ef494",
   "metadata": {},
   "outputs": [],
   "source": [
    "_ = ok.grade('q_after_arrs')"
   ]
  },
  {
   "cell_type": "markdown",
   "id": "ac3a118d",
   "metadata": {},
   "source": [
    "## More permutation\n",
    "\n",
    "Consider the mean difference between the differences:"
   ]
  },
  {
   "cell_type": "code",
   "execution_count": null,
   "id": "f72398e3",
   "metadata": {},
   "outputs": [],
   "source": [
    "beer_mean = np.mean(after_beer_vd)\n",
    "water_mean = np.mean(after_water_vd)\n",
    "beer_water_diff = beer_mean - water_mean\n",
    "beer_water_diff"
   ]
  },
  {
   "cell_type": "markdown",
   "id": "e99f47ef",
   "metadata": {},
   "source": [
    "The number of beer values:"
   ]
  },
  {
   "cell_type": "code",
   "execution_count": null,
   "id": "c81a11b4",
   "metadata": {},
   "outputs": [],
   "source": [
    "n_beer = len(after_beer_vd)\n",
    "n_beer"
   ]
  },
  {
   "cell_type": "markdown",
   "id": "b9226042",
   "metadata": {},
   "source": [
    "The values, pooled into one array:"
   ]
  },
  {
   "cell_type": "code",
   "execution_count": null,
   "id": "6b4d5d35",
   "metadata": {},
   "outputs": [],
   "source": [
    "# The values, pooled.\n",
    "pooled = np.concatenate([after_beer_vd, after_water_vd])\n",
    "pooled"
   ]
  },
  {
   "cell_type": "markdown",
   "id": "ffed5aec",
   "metadata": {},
   "source": [
    "Your job is to do a *permutation* test, to see whether this observed mean\n",
    "difference is plausible in an ideal (null) world, where there is no real\n",
    "difference between the groups, and any observed difference is just due to\n",
    "random sampling.\n",
    "\n",
    "We simulate samples from such an ideal world by shuffling the 16 values\n",
    "randomly, allocating 25 shuffled values to a fake Beer group, and the rest to \n",
    "fake Water group, and calculating the mean difference for these fake groups.\n",
    "We do this many times to build up the *sampling distribution* of these fake\n",
    "differences.\n",
    "\n",
    "To do this job, you may want to remind yourself of the [permutation idea](https://lisds.github.io/textbook/permutation/permutation_idea.html) notebook in the textbook.\n",
    "\n",
    "You may well want to start with a cell that does one trial where you:\n",
    "\n",
    "* shuffle the pooled values.\n",
    "* split them into two groups of 25 and 18.\n",
    "* calculate the difference in means."
   ]
  },
  {
   "cell_type": "code",
   "execution_count": null,
   "id": "58508481",
   "metadata": {},
   "outputs": [],
   "source": [
    "#- You may want to simulate a single trial here."
   ]
  },
  {
   "cell_type": "markdown",
   "id": "27bb55ae",
   "metadata": {},
   "source": [
    "Then finish up the cell below to build your sampling distribution, storing the values in the array `fake_diffs`."
   ]
  },
  {
   "cell_type": "code",
   "execution_count": null,
   "id": "304c80c6",
   "metadata": {},
   "outputs": [],
   "source": [
    "# Build up the sampling distribution from the ideal (null) world.\n",
    "n_iters = 10000\n",
    "fake_diffs = ...\n",
    "# Show the first 10 values.\n",
    "fake_diffs[:10]"
   ]
  },
  {
   "cell_type": "code",
   "execution_count": null,
   "id": "12d2dead",
   "metadata": {},
   "outputs": [],
   "source": [
    "_ = ok.grade('q_fake_diffs')"
   ]
  },
  {
   "cell_type": "markdown",
   "id": "c268f0a1",
   "metadata": {},
   "source": [
    "You might also like to review the histogram of these values, to compare by eye to the value in the real world, `beer_water_diff`."
   ]
  },
  {
   "cell_type": "code",
   "execution_count": null,
   "id": "78e82d76",
   "metadata": {},
   "outputs": [],
   "source": [
    "#- Do a histogram of the sampling distribution here."
   ]
  },
  {
   "cell_type": "markdown",
   "id": "f31c1479",
   "metadata": {},
   "source": [
    "Calculate the proportion of the sampling distribution values that are greater than or equal to the observed difference in means."
   ]
  },
  {
   "cell_type": "code",
   "execution_count": null,
   "id": "cb028bb2",
   "metadata": {},
   "outputs": [],
   "source": [
    "prop_ge = ...\n",
    "# Show the proportion.\n",
    "prop_ge"
   ]
  },
  {
   "cell_type": "code",
   "execution_count": null,
   "id": "d4529f7f",
   "metadata": {},
   "outputs": [],
   "source": [
    "_ = ok.grade('q_prop_ge')"
   ]
  },
  {
   "cell_type": "markdown",
   "id": "372d4047-b2e1-42b4-b02a-82507e255e44",
   "metadata": {},
   "source": [
    "## Further details about the experiment\n",
    "\n",
    "The authors studied **whether people who had drunk beer were more attractive to mosquitoes.**\n",
    "\n",
    "The full experimental setup was quite sophisticated. Here is the graphic from the paper:\n",
    "\n",
    "![](experimental_setup.png)\n",
    "\n",
    "For each trial, there were two tents.\n",
    "\n",
    "* One tent was empty (the *control* tent).\n",
    "* The other tent contained a person (the *volunteer* tent).\n",
    "* A tube led from each tent to a corresponding *trap* box. Thus, there was a\n",
    "  *control trap* box and a *volunteer trap* box.\n",
    "* A tube from each trap box fed into an arm of a Y connector.\n",
    "* The remaining, third arm of the Y led to a *downwind box* containing 50\n",
    "  mosquitoes.\n",
    "* At the beginning of the trial, the experimenters opened the *downwind box*\n",
    "  of mosquitoes, so the mosquitoes could fly out into the Y connector, and\n",
    "  thence, into either of the *trap* boxes.\n",
    "* The number of mosquitoes who flew into the *control trap* box gives the\n",
    "  values for the `no_odour` column.\n",
    "* The number of mosquitoes who flew into the *volunteer trap* box gives the\n",
    "  values for the `volunt_odour` column.\n",
    "* The total number of mosquitoes who flew into either the trap box gives\n",
    "  the values for the `activated` column.\n",
    "\n",
    "Each volunteer had two trials, one *before* they drank their allocated drink,\n",
    "and one *after* they drank their allocated drink.  The `test` columns records\n",
    "the trial type of each row.  The study allocated 25 volunteers to drink beer,\n",
    "and 18 volunteers to drink water.  The `group` column contains the allocation\n",
    "of the corresponding volunteer on each trial."
   ]
  },
  {
   "cell_type": "markdown",
   "id": "6ceafede",
   "metadata": {},
   "source": [
    "## Done.\n",
    "\n",
    "Congratulations, you're done with the assignment!  Be sure to:\n",
    "\n",
    "- **run all the tests** (the next cell has a shortcut for that).\n",
    "- **Save and Checkpoint** from the `File` menu."
   ]
  },
  {
   "cell_type": "code",
   "execution_count": null,
   "id": "b73b5c88",
   "metadata": {},
   "outputs": [],
   "source": [
    "# For your convenience, you can run this cell to run all the tests at once!\n",
    "import os\n",
    "_ = [ok.grade(q[:-3]) for q in os.listdir(\"tests\") if q.startswith('q')]"
   ]
  }
 ],
 "metadata": {
  "jupytext": {
   "notebook_metadata_filter": "all,-language_info",
   "split_at_heading": true
  },
  "kernelspec": {
   "display_name": "Python 3 (ipykernel)",
   "language": "python",
   "name": "python3"
  },
  "language_info": {
   "codemirror_mode": {
    "name": "ipython",
    "version": 3
   },
   "file_extension": ".py",
   "mimetype": "text/x-python",
   "name": "python",
   "nbconvert_exporter": "python",
   "pygments_lexer": "ipython3",
   "version": "3.11.6"
  }
 },
 "nbformat": 4,
 "nbformat_minor": 5
}
