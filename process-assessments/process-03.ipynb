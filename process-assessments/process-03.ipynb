{
 "cells": [
  {
   "cell_type": "markdown",
   "id": "ba54530c",
   "metadata": {},
   "source": [
    "# Mosquito arms\n",
    "\n"
   ]
  },
  {
   "cell_type": "code",
   "execution_count": 1,
   "id": "ac082bce",
   "metadata": {},
   "outputs": [],
   "source": [
    "# Don't change this cell; just run it.\n",
    "import numpy as np  # The array library.\n",
    "\n",
    "import pandas as pd\n",
    "# Safe setting for Pandas.\n",
    "pd.set_option('mode.copy_on_write', True)\n",
    "\n",
    "import matplotlib.pyplot as plt\n",
    "%matplotlib inline"
   ]
  },
  {
   "cell_type": "markdown",
   "id": "d32ad055",
   "metadata": {},
   "source": [
    "## The data\n",
    "\n",
    "You will analyze data from a study involving mosquitoes and beer. The paper describing the data is [Beer Consumption Increases Human\n",
    "Attractiveness to Malaria\n",
    "Mosquitoes](https://doi.org/10.1371/journal.pone.0009546).\n",
    "\n",
    "The first author, Dr [Thierry Lefèvre](https://sites.google.com/site/thierryelefevre), kindly sent the original data.\n",
    "\n",
    "He released the data and derivatives under the [CC-BY](https://creativecommons.org/licenses/by/4.0) license.  Specifically, you should attribute any copies of these data to Dr Thierry Lefèvre, and reference the paper above.\n",
    "\n",
    "The processed data are in `./data/mosquito_beer.csv`.\n",
    "\n",
    "Variables in that file are:\n",
    "\n",
    "* `volunteer`: 43 levels corresponding to the id of the 43\n",
    "  volunteers.\n",
    "* `group`: 2 levels \"beer\" or \"water\" (= volunteers were\n",
    "  assigned to either the beer (volunteer 1 to 25) or the water\n",
    "  treatment (volunteer 26 to 43).\n",
    "* `test`: 2 levels \"after\" or \"before\"  (the attractiveness of\n",
    "  each volunteer was tested twice: before drinking and 15 min\n",
    "  after drinking either water or beer).\n",
    "* `nb_relased`: nb of released mosquitoes (n=50 for each test\n",
    "  and group).\n",
    "* `no_odour`: nb of caught mosquitoes in the \"no_odour control\n",
    "  trap\".\n",
    "* `volunt_odour`: nb of caught mosquitoes in the volunteer odour\n",
    "  trap.\n",
    "* `activated`: number of trapped mosquitoes (= `no_odour` +\n",
    "  `volunt_odour`).\n",
    "* `co2no`: CO2 concentration in the no odour trap.\n",
    "* `co2od`: CO2 concentration in the volunteer odour trap.\n",
    "* `temp`: body temperature of the volunteer.\n",
    "* `trapside`: 2 levels (A or B) this is the side of the\n",
    "  volunteer odour treatment in the Y-olfactometer (volunteer\n",
    "  odour on the right side: A or on the left side: B)\n",
    "* `datetime`: date / time of the corresponding test run.\n",
    "\n",
    "To read in the data:"
   ]
  },
  {
   "cell_type": "code",
   "execution_count": 3,
   "id": "82ffd5cc",
   "metadata": {},
   "outputs": [
    {
     "data": {
      "text/html": [
       "<div>\n",
       "<style scoped>\n",
       "    .dataframe tbody tr th:only-of-type {\n",
       "        vertical-align: middle;\n",
       "    }\n",
       "\n",
       "    .dataframe tbody tr th {\n",
       "        vertical-align: top;\n",
       "    }\n",
       "\n",
       "    .dataframe thead th {\n",
       "        text-align: right;\n",
       "    }\n",
       "</style>\n",
       "<table border=\"1\" class=\"dataframe\">\n",
       "  <thead>\n",
       "    <tr style=\"text-align: right;\">\n",
       "      <th></th>\n",
       "      <th>volunteer</th>\n",
       "      <th>group</th>\n",
       "      <th>test</th>\n",
       "      <th>nb_released</th>\n",
       "      <th>no_odour</th>\n",
       "      <th>volunt_odour</th>\n",
       "      <th>activated</th>\n",
       "      <th>co2no</th>\n",
       "      <th>co2od</th>\n",
       "      <th>temp</th>\n",
       "      <th>trapside</th>\n",
       "      <th>datetime</th>\n",
       "    </tr>\n",
       "  </thead>\n",
       "  <tbody>\n",
       "    <tr>\n",
       "      <th>0</th>\n",
       "      <td>subj1</td>\n",
       "      <td>beer</td>\n",
       "      <td>before</td>\n",
       "      <td>50</td>\n",
       "      <td>7</td>\n",
       "      <td>9</td>\n",
       "      <td>16</td>\n",
       "      <td>305.0</td>\n",
       "      <td>321.0</td>\n",
       "      <td>36.1</td>\n",
       "      <td>A</td>\n",
       "      <td>2007-08-28 19:00:00</td>\n",
       "    </tr>\n",
       "    <tr>\n",
       "      <th>1</th>\n",
       "      <td>subj2</td>\n",
       "      <td>beer</td>\n",
       "      <td>before</td>\n",
       "      <td>50</td>\n",
       "      <td>26</td>\n",
       "      <td>7</td>\n",
       "      <td>33</td>\n",
       "      <td>338.0</td>\n",
       "      <td>720.0</td>\n",
       "      <td>35.3</td>\n",
       "      <td>B</td>\n",
       "      <td>2007-08-28 21:00:00</td>\n",
       "    </tr>\n",
       "    <tr>\n",
       "      <th>2</th>\n",
       "      <td>subj3</td>\n",
       "      <td>beer</td>\n",
       "      <td>before</td>\n",
       "      <td>50</td>\n",
       "      <td>5</td>\n",
       "      <td>10</td>\n",
       "      <td>15</td>\n",
       "      <td>348.0</td>\n",
       "      <td>355.0</td>\n",
       "      <td>36.1</td>\n",
       "      <td>B</td>\n",
       "      <td>2007-09-15 19:00:00</td>\n",
       "    </tr>\n",
       "    <tr>\n",
       "      <th>3</th>\n",
       "      <td>subj4</td>\n",
       "      <td>beer</td>\n",
       "      <td>before</td>\n",
       "      <td>50</td>\n",
       "      <td>3</td>\n",
       "      <td>7</td>\n",
       "      <td>10</td>\n",
       "      <td>349.0</td>\n",
       "      <td>437.0</td>\n",
       "      <td>35.6</td>\n",
       "      <td>A</td>\n",
       "      <td>2007-09-25 17:00:00</td>\n",
       "    </tr>\n",
       "    <tr>\n",
       "      <th>4</th>\n",
       "      <td>subj5</td>\n",
       "      <td>beer</td>\n",
       "      <td>before</td>\n",
       "      <td>50</td>\n",
       "      <td>2</td>\n",
       "      <td>8</td>\n",
       "      <td>10</td>\n",
       "      <td>396.0</td>\n",
       "      <td>475.0</td>\n",
       "      <td>37.0</td>\n",
       "      <td>B</td>\n",
       "      <td>2007-09-25 18:00:00</td>\n",
       "    </tr>\n",
       "  </tbody>\n",
       "</table>\n",
       "</div>"
      ],
      "text/plain": [
       "  volunteer group    test  nb_released  no_odour  volunt_odour  activated  \\\n",
       "0     subj1  beer  before           50         7             9         16   \n",
       "1     subj2  beer  before           50        26             7         33   \n",
       "2     subj3  beer  before           50         5            10         15   \n",
       "3     subj4  beer  before           50         3             7         10   \n",
       "4     subj5  beer  before           50         2             8         10   \n",
       "\n",
       "   co2no  co2od  temp trapside             datetime  \n",
       "0  305.0  321.0  36.1        A  2007-08-28 19:00:00  \n",
       "1  338.0  720.0  35.3        B  2007-08-28 21:00:00  \n",
       "2  348.0  355.0  36.1        B  2007-09-15 19:00:00  \n",
       "3  349.0  437.0  35.6        A  2007-09-25 17:00:00  \n",
       "4  396.0  475.0  37.0        B  2007-09-25 18:00:00  "
      ]
     },
     "execution_count": 3,
     "metadata": {},
     "output_type": "execute_result"
    }
   ],
   "source": [
    "mosquitoes = pd.read_csv(\"./data/mosquito_beer.csv\")\n",
    "mosquitoes.head()"
   ]
  },
  {
   "cell_type": "markdown",
   "id": "3521da01-17f1-4441-a0ae-9edc5219dca2",
   "metadata": {},
   "source": [
    "## Experimental procedure\n",
    "\n",
    "These variables were derived from a full experimental setup that was quite sophisticated. Here is the graphic from the paper:\n",
    "\n",
    "![](experimental_setup.png)\n",
    "\n",
    "For each trial, there were two tents.\n",
    "\n",
    "* One tent was empty (the *control* tent).\n",
    "* The other tent contained a person (the *volunteer* tent).\n",
    "* A tube led from each tent to a corresponding *trap* box. Thus, there was a\n",
    "  *control trap* box and a *volunteer trap* box.\n",
    "* A tube from each trap box fed into an arm of a Y connector.\n",
    "* The remaining, third arm of the Y led to a *downwind box* containing 50\n",
    "  mosquitoes.\n",
    "* At the beginning of the trial, the experimenters opened the *downwind box*\n",
    "  of mosquitoes, so the mosquitoes could fly out into the Y connector, and\n",
    "  thence, into either of the *trap* boxes.\n",
    "* The number of mosquitoes who flew into the *control trap* box gives the\n",
    "  values for the `no_odour` column.\n",
    "* The number of mosquitoes who flew into the *volunteer trap* box gives the\n",
    "  values for the `volunt_odour` column.\n",
    "* The total number of mosquitoes who flew into either the trap box gives\n",
    "  the values for the `activated` column."
   ]
  },
  {
   "cell_type": "markdown",
   "id": "5c32cc5f-2e55-4b82-9d49-57c7d6eb4071",
   "metadata": {},
   "source": [
    "## Research question\n",
    "\n",
    "The authors studied **whether people who had drunk beer were more attractive to mosquitoes.**\n",
    "\n",
    "You too will study this. Firts, you will first filter the data frame to contain only the \"after\" treatment rows. Each row corresponds to one person in the study. The number for each subject was the number of mosquitoes flying towards them. The subjects were from two groups: people who had just drunk beer, and people who had just drunk water. There were 25 subjects who had drunk beer, and therefore, 25 numbers of mosquitoes corresponding to the \"beer\" group. There were 18 subjects who had drunk water, and 18 numbers corresponding to the \"water\" group.\n",
    "\n",
    "Get the numbers of mosquitoes flying towards the beer drinkers, and towards the water drinkers, after they had drunk their beer or water."
   ]
  },
  {
   "cell_type": "code",
   "execution_count": 6,
   "id": "245d52ae-51d9-424e-9dc2-5bf8948c7eb4",
   "metadata": {},
   "outputs": [
    {
     "data": {
      "text/plain": [
       "(43, 12)"
      ]
     },
     "execution_count": 6,
     "metadata": {},
     "output_type": "execute_result"
    }
   ],
   "source": [
    "after_rows = mosquitoes[mosquitoes['test'] == 'after']\n",
    "beer_rows = ... \n",
    "beer_activated = ...\n",
    "water_rows = ... \n",
    "water_activated = "
   ]
  },
  {
   "cell_type": "markdown",
   "id": "27fc3781-7a1b-41d3-8849-32a2c94742a5",
   "metadata": {},
   "source": [
    "Check that there are 25 values in the beer group, and 18 in the water group:"
   ]
  },
  {
   "cell_type": "code",
   "execution_count": null,
   "id": "a5a0ac77-1043-4a30-8ba3-45533fcdb7be",
   "metadata": {},
   "outputs": [],
   "source": [
    "print('Number in beer group:', len(beer_activated))\n",
    "print('Number in water group:', len(water_activated))"
   ]
  },
  {
   "cell_type": "markdown",
   "id": "dc0e8a71-8cf4-463f-a85e-fc4d3ac4aa55",
   "metadata": {},
   "source": [
    "We are interested in the difference between the means of these numbers, which you can check here:"
   ]
  },
  {
   "cell_type": "code",
   "execution_count": null,
   "id": "42d52bc3-b0f6-4716-923c-e15ab38dd32c",
   "metadata": {},
   "outputs": [],
   "source": [
    "observed_difference = np.mean(beer_activated) - np.mean(water_activated)\n",
    "observed_difference"
   ]
  },
  {
   "cell_type": "markdown",
   "id": "14bf8a42-e71e-41d6-8c49-81217ed24fe6",
   "metadata": {},
   "source": [
    "## Testing for a difference\n",
    "\n",
    "Your task is to conduct a relevant statistical test to address the research question \"does drinking beer make people more attractive to mosquitoes?\"\n",
    "\n",
    "For this, you should:\n",
    "1) state your hypotheses\n",
    "2) specify any assumptions\n",
    "3) conduct the test\n",
    "4) report the results\n",
    "5) draw a conclusion\n",
    "\n",
    "To achieve full marks, you should comment on how you could better answer the question, making use of  variables already provided in the dataset.\n",
    "\n",
    "Add code/markdown cells as needed."
   ]
  },
  {
   "cell_type": "code",
   "execution_count": null,
   "id": "575996ab-41f3-4b07-82e7-816a0bea4c0d",
   "metadata": {},
   "outputs": [],
   "source": []
  }
 ],
 "metadata": {
  "jupytext": {
   "notebook_metadata_filter": "all,-language_info",
   "split_at_heading": true
  },
  "kernelspec": {
   "display_name": "Python 3 (ipykernel)",
   "language": "python",
   "name": "python3"
  },
  "language_info": {
   "codemirror_mode": {
    "name": "ipython",
    "version": 3
   },
   "file_extension": ".py",
   "mimetype": "text/x-python",
   "name": "python",
   "nbconvert_exporter": "python",
   "pygments_lexer": "ipython3",
   "version": "3.11.6"
  }
 },
 "nbformat": 4,
 "nbformat_minor": 5
}
