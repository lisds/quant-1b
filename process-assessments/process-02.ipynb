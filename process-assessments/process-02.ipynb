{
 "cells": [
  {
   "cell_type": "markdown",
   "id": "8dc7d3e9",
   "metadata": {},
   "source": [
    "# Doctora Who\n",
    "\n"
   ]
  },
  {
   "cell_type": "code",
   "execution_count": null,
   "id": "51555658",
   "metadata": {},
   "outputs": [],
   "source": [
    "# Don't change this cell; just run it.\n",
    "import numpy as np  # The array library.\n",
    "\n",
    "import pandas as pd\n",
    "# Safe setting for Pandas.  Needs Pandas version >= 1.5.\n",
    "pd.set_option('mode.copy_on_write', True)\n",
    "\n",
    "# The OKpy testing system.\n",
    "from client.api.notebook import Notebook\n",
    "ok = Notebook('process-02.ok')"
   ]
  },
  {
   "cell_type": "markdown",
   "id": "6b743fa8",
   "metadata": {},
   "source": [
    "As everybody who is anybody knows, Doctor Who is an alien who *regenerates*,\n",
    "and in doing so, takes different human-like forms.\n",
    "\n",
    "Coincidentally, this makes casting easier, because you can swap out the main\n",
    "actor when you lose interest in them, they get a better contract, or they start\n",
    "[forgetting their lines](https://en.wikipedia.org/wiki/William_Hartnell).\n",
    "\n",
    "The general idea makes it perfectly possible for the Doctor to be man or a\n",
    "woman, and indeed, as anyone who is anybody knows, Jodie Whittaker played the\n",
    "Doctor from 2017 through 2022.\n",
    "\n",
    "In English, \"Doctor Who\" could be a male or a female, but in Spanish, a female\n",
    "Doctor is more of a problem, because a male Doctor would be \"Doctor Who\", but\n",
    "a female Doctor would be \"Doctora Who\", or, abbreviated, \"Dra Who\".\n",
    "\n",
    "Hence the name of this page.\n",
    "\n",
    "Incidentally, you may have noticed, but if you are talking about your General\n",
    "Practitioner, you are a [little bit more\n",
    "likely](https://www.statista.com/statistics/698260/registered-doctors-united-kingdom-uk-by-gender-and-specialty/)\n",
    "to be talking about a doctora, rather than a doctor.\n"
   ]
  },
  {
   "cell_type": "markdown",
   "id": "2d5629a6",
   "metadata": {},
   "source": [
    "##  Has Doctor Who got better, or worse?"
   ]
  },
  {
   "cell_type": "markdown",
   "id": "f462d07a",
   "metadata": {},
   "source": [
    "Jodie Whittaker's tenure has attracted [some\n",
    "criticism](https://en.wikipedia.org/wiki/Thirteenth_Doctor#Critical_reception),\n",
    "not primarily because of her acting, but because of the scripts.  One\n",
    "accusation that has been made is that the scripts are too 'woke'.  We won't\n",
    "dive into that can of worms here, but let's start to look at how you'd assess\n",
    "whether Jodie Whittaker's episodes are popular, in terms of ratings, and number\n",
    "of viewers, compared to other Doctors.\n",
    "\n",
    "The most obvious comparison would be to Peter Capaldi, the previous Doctor.\n",
    "\n",
    "In this exercise, we look at the data to see if there is any good evidence that\n",
    "Jodie Whittaker's Doctora was less popular than Peter Capaldi's Doctor.\n"
   ]
  },
  {
   "cell_type": "markdown",
   "id": "1d8c053c",
   "metadata": {},
   "source": [
    "## The data\n",
    "\n",
    "You are about to read the processed data from that we web-scraped from\n",
    "<https://guide.doctorwhonews.net>.\n",
    "\n",
    "See [the dataset page](https://github.com/odsti/datasets/tree/main/doctor_who)\n",
    "for more information.\n",
    "\n",
    "Here we read the CSV file as a Pandas DataFrame."
   ]
  },
  {
   "cell_type": "code",
   "execution_count": null,
   "id": "9e358eb3",
   "metadata": {},
   "outputs": [],
   "source": [
    "# Run this cell\n",
    "df = pd.read_csv('./data/doctor_who_stats.csv')\n",
    "df.head()"
   ]
  },
  {
   "cell_type": "markdown",
   "id": "1dd4fb52",
   "metadata": {},
   "source": [
    "As usual we need to know what the column values mean:\n",
    "\n",
    "*   `Episode Title`\n",
    "*   `Weekday`: day of week of first broadcast.\n",
    "*   `Length`: run time.\n",
    "*   `Share`: audience share relative to other programmes broadcast at same time.\n",
    "*   `AI`: [Audience Appreciation Index](https://tardis.fandom.com/wiki/Appreciation_Index)\n",
    "*   `Chart`: Ranking in terms of number of viewers (see below) compared to all\n",
    "    other programmes broadcast that week.\n",
    "*   `Broadcast datetime`: Date and time of first broadcast.\n",
    "*   `viewers_in_millions`: Viewers in millions.  These appear to be viewers\n",
    "    within 7 days of the original broadcast, initially on TV only, and later\n",
    "    including Tablets and PCs, and later still, tablets, PCs and smartphones.\n",
    "    See the notebook above for more discussion.\n",
    "\n",
    "Notice the `Broadcast datetime` column.  It has the time and date of the first\n",
    "broadcast of each episode.  Here is the column, extracted as a Pandas Series."
   ]
  },
  {
   "cell_type": "code",
   "execution_count": null,
   "id": "9f2f56b8",
   "metadata": {},
   "outputs": [],
   "source": [
    "df['Broadcast datetime']"
   ]
  },
  {
   "cell_type": "markdown",
   "id": "bf147c31",
   "metadata": {},
   "source": [
    "Notice the data type `object`.  Here is the first value in the column:"
   ]
  },
  {
   "cell_type": "code",
   "execution_count": null,
   "id": "ed813314",
   "metadata": {
    "lines_to_next_cell": 0
   },
   "outputs": [],
   "source": [
    "# Extract the first value.\n",
    "df['Broadcast datetime'].iloc[0]"
   ]
  },
  {
   "cell_type": "markdown",
   "id": "2cb45f20",
   "metadata": {},
   "source": [
    "There are quotes around the displayed value — the value is a string:"
   ]
  },
  {
   "cell_type": "code",
   "execution_count": null,
   "id": "f4a901bd",
   "metadata": {},
   "outputs": [],
   "source": [
    "type(df['Broadcast datetime'].iloc[0])"
   ]
  },
  {
   "cell_type": "markdown",
   "id": "be1cd05a",
   "metadata": {},
   "source": [
    "To make this column more useful we need to convert the strings into something\n",
    "Pandas recognizes as dates and times.  To do this, we pass the column of values\n",
    "to the `pd.to_datetime` function, to get a column of datatime values, that\n",
    "Pandas recognizes as recording date and time."
   ]
  },
  {
   "cell_type": "code",
   "execution_count": null,
   "id": "33a83613",
   "metadata": {},
   "outputs": [],
   "source": [
    "broadcast_dts = pd.to_datetime(df['Broadcast datetime'])\n",
    "broadcast_dts"
   ]
  },
  {
   "cell_type": "markdown",
   "id": "b81ff59c",
   "metadata": {},
   "source": [
    "Use *direct indexing with column labels* (DICL) to replace the current\n",
    "`Broadcast datetime` column with the new values stored in `broadcast_dts`."
   ]
  },
  {
   "cell_type": "code",
   "execution_count": null,
   "id": "bbe13610",
   "metadata": {},
   "outputs": [],
   "source": [
    "df... = ...\n",
    "# Show the first five rows of the result\n",
    "df.head()"
   ]
  },
  {
   "cell_type": "code",
   "execution_count": null,
   "id": "840aa342",
   "metadata": {},
   "outputs": [],
   "source": [
    "_ = ok.grade('q_01_bcdt')"
   ]
  },
  {
   "cell_type": "markdown",
   "id": "5fe1e38e",
   "metadata": {},
   "source": [
    "We are interested in a couple of columns for popularity of each episode.\n",
    "\n",
    "The first is `AI` — audience appreciation index.  From the link above:\n",
    "\n",
    "> A 21st century AI score is calculated using a small but representative group\n",
    "> of viewers. This sample will watch a program and then rate the program on a\n",
    "> scale of one to ten. The scores are then averaged and multiplied by ten.\n",
    "> Hence, an AI of 67 means that 6.7 was the simple mean of all responses.\n",
    "\n",
    "Notice that the measurement of this score has changed several times, so scores\n",
    "from — say — 1970 are not comparable with those from 2020.\n",
    "\n",
    "To give an idea of what the change in scores looks like, use the\n",
    "`.plot.scatter` method of the `df` DataFrame to plot `Broadcast datetime` on\n",
    "the x-axis against `AI` on the y-axis."
   ]
  },
  {
   "cell_type": "code",
   "execution_count": null,
   "id": "99dd1f10",
   "metadata": {},
   "outputs": [],
   "source": [
    "df...."
   ]
  },
  {
   "cell_type": "markdown",
   "id": "bff82fc2",
   "metadata": {},
   "source": [
    "It looks as though scores before the year 2000 were consistently lower than\n",
    "scores after 2000.\n",
    "\n",
    "The BBC had not broadcast Doctor Who for 15 years, when they [relaunched the\n",
    "programme](https://en.wikipedia.org/wiki/History_of_Doctor_Who#Ninth_Doctor) on\n",
    "March 26 2000.\n",
    "\n",
    "Here is how we make a value to represent that relaunch date, minus one day for\n",
    "safety (we are going to look for broadcasts after that date)."
   ]
  },
  {
   "cell_type": "code",
   "execution_count": null,
   "id": "ed51c672",
   "metadata": {},
   "outputs": [],
   "source": [
    "just_before_relaunch = pd.to_datetime('2000-03-25')\n",
    "just_before_relaunch"
   ]
  },
  {
   "cell_type": "markdown",
   "id": "e3190359",
   "metadata": {},
   "source": [
    "You can use comparisons on these datetime values, as you would for other\n",
    "values.  Greater than corresponds to after, and less than corresponds to\n",
    "before:"
   ]
  },
  {
   "cell_type": "code",
   "execution_count": null,
   "id": "02e096e1",
   "metadata": {},
   "outputs": [],
   "source": [
    "# New Year's day of the new millennium.\n",
    "new_millenium = pd.to_datetime('2000-01-01')\n",
    "new_millenium"
   ]
  },
  {
   "cell_type": "code",
   "execution_count": null,
   "id": "f1f04ff3",
   "metadata": {},
   "outputs": [],
   "source": [
    "new_millenium > just_before_relaunch"
   ]
  },
  {
   "cell_type": "code",
   "execution_count": null,
   "id": "2f35ca4a",
   "metadata": {},
   "outputs": [],
   "source": [
    "new_millenium < just_before_relaunch"
   ]
  },
  {
   "cell_type": "markdown",
   "id": "2b9d0914",
   "metadata": {},
   "source": [
    "Create a Boolean Series `are_after_relaunch` that has True for rows in the\n",
    "DataFrame where `Broadcast datetime` was later than the `before_relaunch` and\n",
    "False otherwise."
   ]
  },
  {
   "cell_type": "code",
   "execution_count": null,
   "id": "b141a2a5",
   "metadata": {},
   "outputs": [],
   "source": [
    "are_after_relaunch = ...\n",
    "# Show the result\n",
    "are_after_relaunch"
   ]
  },
  {
   "cell_type": "code",
   "execution_count": null,
   "id": "4aa68a6a",
   "metadata": {},
   "outputs": [],
   "source": [
    "_ = ok.grade('q_02_after_relaunch')"
   ]
  },
  {
   "cell_type": "markdown",
   "id": "688459c6",
   "metadata": {},
   "source": [
    "We are going to restrict the rest of our analyses to the broadcasts after the\n",
    "relaunch.   Use *Direct Indexing with Boolean Series* (DIBS) to select the rows\n",
    "in `df` after the relaunch date.  Call the resulting DataFrame\n",
    "`relaunched_doctor`."
   ]
  },
  {
   "cell_type": "code",
   "execution_count": null,
   "id": "537898cf",
   "metadata": {},
   "outputs": [],
   "source": [
    "relaunched_doctor = \n",
    "relaunched_doctor"
   ]
  },
  {
   "cell_type": "code",
   "execution_count": null,
   "id": "428de3c0",
   "metadata": {},
   "outputs": [],
   "source": [
    "_ = ok.grade('q_03_relaunched_doctor')"
   ]
  },
  {
   "cell_type": "markdown",
   "id": "ebf6caf7",
   "metadata": {},
   "source": [
    "The `AI` ratings are all high; nearly all are above 80 / 100.\n",
    "\n",
    "We are interested in *comparing* between AI ratings, so we are more interested\n",
    "in differences than absolute scores.\n",
    "\n",
    "To make that comparison easier, use DICL to make a new Series that contains the\n",
    "`AI` scores, minus the mean of the `AI` scores, and insert that Series into the\n",
    "`relaunched_doctor` DataFrame with the column name `AI deviation`.\n"
   ]
  },
  {
   "cell_type": "code",
   "execution_count": null,
   "id": "b981777c",
   "metadata": {},
   "outputs": [],
   "source": [
    "relaunched_doctor... = ...\n",
    "# Show the first five rows of the result.\n",
    "relaunched_doctor.head()"
   ]
  },
  {
   "cell_type": "code",
   "execution_count": null,
   "id": "e2069088",
   "metadata": {},
   "outputs": [],
   "source": [
    "_ = ok.grade('q_04_ai_deviation')"
   ]
  },
  {
   "cell_type": "markdown",
   "id": "8e8561cf",
   "metadata": {},
   "source": [
    "Now use the `.plot.scatter` method to do plot of `AI deviation` scores (y-axis)\n",
    "*as a function of* `Broadcast datetime` (x-axis), for the `relaunched_doctor`\n",
    "DataFrame."
   ]
  },
  {
   "cell_type": "code",
   "execution_count": null,
   "id": "2b3b1146",
   "metadata": {},
   "outputs": [],
   "source": [
    "relaunched_doctor..."
   ]
  },
  {
   "cell_type": "markdown",
   "id": "205ddedc",
   "metadata": {},
   "source": [
    "To the matching plot for `Broadcast datetime` and `Chart`.  Remember, low\n",
    "numbers are good for chart positions."
   ]
  },
  {
   "cell_type": "code",
   "execution_count": null,
   "id": "0a8c147e",
   "metadata": {},
   "outputs": [],
   "source": [
    "relaunched_doctor..."
   ]
  },
  {
   "cell_type": "markdown",
   "id": "0b9106ec",
   "metadata": {},
   "source": [
    "**For reflection** - have a look at these plots.  What trends do you see?   How\n",
    "is this going to affect our interpretation of the scores for Peter Capaldi and\n",
    "Jodie Whittaker?\n"
   ]
  },
  {
   "cell_type": "markdown",
   "id": "639aaa81",
   "metadata": {},
   "source": [
    "## Selecting episodes\n",
    "\n",
    "Now we are down to the stage where we want to select episodes corresponding to\n",
    "Jodie Whittaker and to Peter Capaldi.\n",
    "\n",
    "To make that a little easier, make a new DataFrame that replaces the current,\n",
    "rather useless numerical row labels with the values from the `Episode Title`\n",
    "column.\n",
    "\n",
    "Call this new DataFrame `by_name`."
   ]
  },
  {
   "cell_type": "code",
   "execution_count": null,
   "id": "7f08fe63",
   "metadata": {},
   "outputs": [],
   "source": [
    "by_name = ...\n",
    "# Show the first five rows of the result\n",
    "by_name"
   ]
  },
  {
   "cell_type": "code",
   "execution_count": null,
   "id": "8d976409",
   "metadata": {},
   "outputs": [],
   "source": [
    "_ = ok.grade('q_05_by_name')"
   ]
  },
  {
   "cell_type": "markdown",
   "id": "55d444df",
   "metadata": {},
   "source": [
    "The titles of Jodie Whittaker's [first and last episodes as the\n",
    "Doctor](https://en.wikipedia.org/wiki/List_of_actors_who_have_played_the_Doctor)\n",
    "were:"
   ]
  },
  {
   "cell_type": "code",
   "execution_count": null,
   "id": "41371856",
   "metadata": {},
   "outputs": [],
   "source": [
    "jws_first_episode = \"The Woman Who Fell to Earth\"\n",
    "jws_last_episode = \"The Power of the Doctor\""
   ]
  },
  {
   "cell_type": "markdown",
   "id": "19644bf7",
   "metadata": {},
   "source": [
    "With these values in hand, use *indirect indexing by label* (`.loc` indexing)\n",
    "on the `by_name` DataFrame, to make a new DataFrame, `jws_doctor`, that only\n",
    "contains Jodie Whittaker's episodes."
   ]
  },
  {
   "cell_type": "code",
   "execution_count": null,
   "id": "19615135",
   "metadata": {},
   "outputs": [],
   "source": [
    "jws_doctor = ...\n",
    "# Show the result\n",
    "jws_doctor"
   ]
  },
  {
   "cell_type": "code",
   "execution_count": null,
   "id": "446b22b3",
   "metadata": {},
   "outputs": [],
   "source": [
    "_ = ok.grade('q_06_jws_doctor')"
   ]
  },
  {
   "cell_type": "markdown",
   "id": "93447673",
   "metadata": {},
   "source": [
    "We are particularly interest in the `AI deviation` scores.\n",
    "\n",
    "Use the DataFrame plotting methods to do a bar plot of Jodie Whittaker's `AI\n",
    "deviation` scores."
   ]
  },
  {
   "cell_type": "code",
   "execution_count": null,
   "id": "28cb80b2",
   "metadata": {},
   "outputs": [],
   "source": [
    "jws_doctor..."
   ]
  },
  {
   "cell_type": "markdown",
   "id": "2334b34f",
   "metadata": {},
   "source": [
    "While you're at it — do a bar plot of the `Chart` positions for Jodie\n",
    "Whittaker's episodes:"
   ]
  },
  {
   "cell_type": "code",
   "execution_count": null,
   "id": "156624ac",
   "metadata": {},
   "outputs": [],
   "source": [
    "jws_doctor..."
   ]
  },
  {
   "cell_type": "markdown",
   "id": "e6783a75",
   "metadata": {},
   "source": [
    "Now let's shift to Peter Capaldi.  These are his first and last episodes as the\n",
    "Doctor:"
   ]
  },
  {
   "cell_type": "code",
   "execution_count": null,
   "id": "af65ba54",
   "metadata": {},
   "outputs": [],
   "source": [
    "pc_first_episode = \"Deep Breath\"\n",
    "pc_last_episode = \"Twice Upon A Time\""
   ]
  },
  {
   "cell_type": "markdown",
   "id": "bf6fb391",
   "metadata": {},
   "source": [
    "As you did for Jodie Whittaker, make a new DataFrame called `pcs_doctor` that\n",
    "contains the Peter Capaldi episodes."
   ]
  },
  {
   "cell_type": "code",
   "execution_count": null,
   "id": "c2ae3da8",
   "metadata": {},
   "outputs": [],
   "source": [
    "pcs_doctor = ...\n",
    "# Show the result\n",
    "pcs_doctor"
   ]
  },
  {
   "cell_type": "code",
   "execution_count": null,
   "id": "63b94c20",
   "metadata": {},
   "outputs": [],
   "source": [
    "_ = ok.grade('q_07_pcs_doctor')"
   ]
  },
  {
   "cell_type": "markdown",
   "id": "412ab62f",
   "metadata": {},
   "source": [
    "As before, do a bar plot of Peter Capaldi's `AI deviation` scores:"
   ]
  },
  {
   "cell_type": "code",
   "execution_count": null,
   "id": "ebf718f5",
   "metadata": {},
   "outputs": [],
   "source": [
    "pcs_doctor..."
   ]
  },
  {
   "cell_type": "markdown",
   "id": "959debe2",
   "metadata": {},
   "source": [
    "Do a bar plot of Peter Capaldi's `Chart` positions:"
   ]
  },
  {
   "cell_type": "code",
   "execution_count": null,
   "id": "627caaf0",
   "metadata": {},
   "outputs": [],
   "source": [
    "pcs_doctor..."
   ]
  },
  {
   "cell_type": "markdown",
   "id": "8402f120",
   "metadata": {},
   "source": [
    "## What do you think?\n",
    "\n",
    "Now you have the overall trends, and the values for Jodie Whittaker and Peter\n",
    "Capaldi, what do you think?  Is there evidence here that Jodie Whittaker was\n",
    "particularly unpopular with viewers?  Or was she popular?\n",
    "\n",
    "Prepare your arguments!  We'll discuss.\n"
   ]
  },
  {
   "cell_type": "markdown",
   "id": "fd08feb4",
   "metadata": {},
   "source": [
    "## Done.\n",
    "\n",
    "Congratulations, you're done with the assignment!  Be sure to:\n",
    "\n",
    "- **run all the tests** (the next cell has a shortcut for that).\n",
    "- **Save and Checkpoint** from the `File` menu."
   ]
  },
  {
   "cell_type": "code",
   "execution_count": null,
   "id": "1b35baa3",
   "metadata": {},
   "outputs": [],
   "source": [
    "# For your convenience, you can run this cell to run all the tests at once!\n",
    "import os\n",
    "_ = [ok.grade(q[:-3]) for q in os.listdir(\"tests\") if q.startswith('q')]"
   ]
  }
 ],
 "metadata": {
  "jupytext": {
   "notebook_metadata_filter": "all,-language_info",
   "split_at_heading": true,
   "text_representation": {
    "extension": ".Rmd",
    "format_name": "rmarkdown",
    "format_version": "1.2",
    "jupytext_version": "1.14.1"
   }
  },
  "kernelspec": {
   "display_name": "Python 3 (ipykernel)",
   "language": "python",
   "name": "python3"
  }
 },
 "nbformat": 4,
 "nbformat_minor": 5
}
