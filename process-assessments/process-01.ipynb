{
 "cells": [
  {
   "cell_type": "markdown",
   "id": "fd6c7c5f-4281-4269-9b5f-fe0dc49b7336",
   "metadata": {},
   "source": [
    "# Process piece 01"
   ]
  },
  {
   "cell_type": "markdown",
   "id": "8206b0f6-99f3-4c69-87bb-1b4e05ab6c6d",
   "metadata": {},
   "source": [
    "## Thinking about causality"
   ]
  },
  {
   "cell_type": "markdown",
   "id": "70d02377-bd82-4727-9f66-b871b4b1b61a",
   "metadata": {},
   "source": [
    "A government is considering making alcohol consumption illegal as part of a public health campaign. Let’s think of making alcohol illegal as the treatment T. Write $T = 1$ if the government makes alcohol illegal and $T = 0$ if the government leaves alcohol legal. \n",
    "\n",
    "We will think of a binary outcome for each person: either they drink alcohol or they do not. If person i drinks at treatment status T, we write her potential outcome as $Y_{Ti} = 1$, and if she doesn’t drink, we write it as $Y_{Ti} = 0$.\n",
    "\n",
    "Suppose the society is made up of three groups: the always drinkers, the legal drinkers, and the never drinkers. The always drinkers will drink whether or not alcohol is legal. The legal drinkers will drink if and only if alcohol is legal. The never drinkers won’t drink whether or not alcohol is legal.\n",
    "\n",
    "(a) Write down, in potential outcomes notation and as a number (0 or 1), each of the two potential outcomes for each of the three groups.\n",
    "\n",
    "(b) Write down, in both potential outcomes notation and as a number (0 or 1), the causal effect of making alcohol illegal on drinking for each of the three groups.\n",
    "\n",
    "(c) Is there an effect, on average, of banning alcohol in this society?\n",
    "\n",
    "(d) Suppose you are out to lunch with some friends and one of them says, “My uncle lives in a place where they banned alcohol and all of his friends kept drinking, so I don’t think the ban does anything.” Explain, in terms of our example, why this isn’t a convincing argument."
   ]
  },
  {
   "cell_type": "markdown",
   "id": "701997af-eca2-4fe0-8f1c-0e0307936ba4",
   "metadata": {},
   "source": [
    "*Your answer here* (remember to render as markdown!)"
   ]
  },
  {
   "cell_type": "markdown",
   "id": "e77837ea-cdb8-4502-a400-907f333544de",
   "metadata": {},
   "source": [
    "## Dealing with data"
   ]
  },
  {
   "cell_type": "markdown",
   "id": "b984f003-15af-45fd-9441-e14ae83cee24",
   "metadata": {},
   "source": [
    "You will look at the 2015 compensation of CEOs at the 100 largest companies in California. These data come from a Los Angeles Times analysis, based on filings mandated by a governmental commission from all publicly-traded companies.\n",
    "\n",
    "Run the following cell to import required modules and load the dataframe."
   ]
  },
  {
   "cell_type": "code",
   "execution_count": null,
   "id": "1bd401e1-45c3-45c2-87ee-39a653e6311d",
   "metadata": {},
   "outputs": [],
   "source": [
    "# Import modules\n",
    "import warnings\n",
    "warnings.filterwarnings(\"ignore\")\n",
    "import pandas as pd\n",
    "import io\n",
    "import requests\n",
    "\n",
    "## Load dataframe\n",
    "df_url = \"https://raw.githubusercontent.com/lisds/quant-1b/refs/heads/main/data/compensation.csv\"\n",
    "url_content = requests.get(df_url, verify = False).content\n",
    "compensation = pd.read_csv(io.StringIO(url_content.decode(\"utf-8\")))\n",
    "compensation"
   ]
  },
  {
   "cell_type": "markdown",
   "id": "f96eddae-8953-45a2-82d0-24674c50b255",
   "metadata": {},
   "source": [
    "**Question 1**. Suppose we want to look at the highest-compensated CEOs among these. Create a version of the table that's sorted in *decreasing order* by the CEO's total compensation. Call it `compensation_order`.\n"
   ]
  },
  {
   "cell_type": "code",
   "execution_count": null,
   "id": "097146e4-f80e-49e6-80a9-1a5575d34722",
   "metadata": {},
   "outputs": [],
   "source": [
    "# Your answer here"
   ]
  },
  {
   "cell_type": "markdown",
   "id": "1f3666bf-df31-46ac-a3d1-9fa214a5243d",
   "metadata": {},
   "source": [
    "**Question 2**. Create a version of the table named `high_stock_compensation` containing the 5 CEOs with the highest stock (not total) compensation. It should be sorted in alphabetical order by last name, and it should have the same columns as `compensation`."
   ]
  },
  {
   "cell_type": "code",
   "execution_count": null,
   "id": "759973f2-67d4-47f7-810d-7044ef3e538e",
   "metadata": {},
   "outputs": [],
   "source": [
    "# Your answer here"
   ]
  },
  {
   "cell_type": "markdown",
   "id": "11c80635-bb66-4023-a660-bb5edd5f18dc",
   "metadata": {},
   "source": [
    "**Extension Question (not required for assessment!)**. Create a version of the table in alphabetical order by last name, but with an extra column called \"Rank\" for each CEO's rank in terms of total pay. Call the table `alphabetical_order`."
   ]
  },
  {
   "cell_type": "code",
   "execution_count": null,
   "id": "ae8ab136-46c0-4e7e-bb2c-58f1434c368e",
   "metadata": {},
   "outputs": [],
   "source": [
    "# Your answer here"
   ]
  }
 ],
 "metadata": {
  "kernelspec": {
   "display_name": "Python 3 (ipykernel)",
   "language": "python",
   "name": "python3"
  },
  "language_info": {
   "codemirror_mode": {
    "name": "ipython",
    "version": 3
   },
   "file_extension": ".py",
   "mimetype": "text/x-python",
   "name": "python",
   "nbconvert_exporter": "python",
   "pygments_lexer": "ipython3",
   "version": "3.11.6"
  }
 },
 "nbformat": 4,
 "nbformat_minor": 5
}
