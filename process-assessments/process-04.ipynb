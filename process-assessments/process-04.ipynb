{
 "cells": [
  {
   "cell_type": "markdown",
   "id": "044ca9fc-a977-4f3a-9135-6eb67c34ed61",
   "metadata": {},
   "source": [
    "## Redundant adjectives\n",
    "\n",
    "Take a look at the images in Figure 1. How would you describe the circled item in Figure 1(a)? Would you call it \"the triangle\"? Or \"the blue triangle\"? How about in Figure 1(b)? Does your answer change?\n",
    "\n",
    "![](fig-blue-triangle-shapes-1.png)\n",
    "*(a) The circled triangle is the only triangle.*\n",
    "\n",
    "![](fig-blue-triangle-shapes-2.png)\n",
    "*(b) The circled triangle is the only blue triangle.*\n",
    "\n",
    "*Figure 1: Two sets of four shapes.*"
   ]
  },
  {
   "cell_type": "markdown",
   "id": "711506ab-9f67-453b-998b-a084c2573c8a",
   "metadata": {},
   "source": [
    "In Figure 1(a) the circled item is the only triangle, but in the bottom image the circled item is one of two triangles. While in Figure 1(a) \"the triangle\" is a sufficient description for the circled item, many of us might choose to refer to it as the \"blue triangle\" anyway. In Figure 1(a) there are two triangles, so \"the triangle\" is no longer sufficient, and to describe the circled item we must qualify it with the color as well, as \"the blue triangle\".\n",
    "\n",
    "Your answers to the above questions might be different if you’re answering in a different language than English. For example, in Spanish, the adjective comes after the noun (e.g., \"el triángulo azul\") therefore the incremental value of the additional adjective might be different for Figure 1(a).\n",
    "\n",
    "Researchers studying frequent use of redundant adjectives (e.g., referring to a single triangle as \"the blue triangle\") and incrementality of language processing designed an experiment where they showed the following two images to 22 native English speakers (undergraduates from University College London) and 22 native Spanish speakers (undergraduates from the Universidad de las Islas Baleares). They found that in both languages, the subjects used more redundant color adjectives in denser displays where it would be more efficient ([Rubio-Fernandez, Mollica, and Jara-Ettinger 2021](https://doi.org/10.1037/xge0000963)). One of the displays from the study is shown in Figure 2.\n",
    "\n",
    "![](redundant-adjectives-blue-triangle.png)\n",
    "\n",
    "*Figure 2: Images used in one of the experiments described in Rubio-Fernandez, Mollica, and Jara-Ettinger (2021).*"
   ]
  },
  {
   "cell_type": "markdown",
   "id": "ec6c54ae-96f3-4a0a-918d-bc98bb5f3013",
   "metadata": {},
   "source": [
    "In this case study we will examine data from the redundant adjective study, which the authors have made available on Open Science Framework at [osf.io/9hw68](https://osf.io/9hw68/). The full reference is:\n",
    "\n",
    "* Rubio-Fernandez, P., F. Mollica, and J. Jara-Ettinger. 2021. \"Speakers and Listeners Exploit Word Order for Communicative Efficiency: A Cross-Linguistic Investigation.\" Journal of Experimental Psychology: General 150 (3): 583–94. https://doi.org/10.1037/xge0000963. \n",
    "\n",
    "Let's fire up the modules and load in the data!"
   ]
  },
  {
   "cell_type": "code",
   "execution_count": 1,
   "id": "198607e8-712f-4a78-9b79-0093f585fb35",
   "metadata": {},
   "outputs": [],
   "source": [
    "# import Numpy library, rename as \"np\"\n",
    "import numpy as np\n",
    "# make random number generator\n",
    "rng = np.random.default_rng()\n",
    "# import Pandas library, rename as \"pd\"\n",
    "import pandas as pd\n",
    "# safe setting for Pandas\n",
    "pd.set_option('mode.copy_on_write', True)\n",
    "\n",
    "# Set up plotting\n",
    "import matplotlib.pyplot as plt\n",
    "plt.style.use('fivethirtyeight')"
   ]
  },
  {
   "cell_type": "code",
   "execution_count": 2,
   "id": "9b720e9b-0daa-4d32-b2a8-9b1f76705b35",
   "metadata": {},
   "outputs": [
    {
     "data": {
      "text/html": [
       "<div>\n",
       "<style scoped>\n",
       "    .dataframe tbody tr th:only-of-type {\n",
       "        vertical-align: middle;\n",
       "    }\n",
       "\n",
       "    .dataframe tbody tr th {\n",
       "        vertical-align: top;\n",
       "    }\n",
       "\n",
       "    .dataframe thead th {\n",
       "        text-align: right;\n",
       "    }\n",
       "</style>\n",
       "<table border=\"1\" class=\"dataframe\">\n",
       "  <thead>\n",
       "    <tr style=\"text-align: right;\">\n",
       "      <th></th>\n",
       "      <th>language</th>\n",
       "      <th>subject</th>\n",
       "      <th>items</th>\n",
       "      <th>n_questions</th>\n",
       "      <th>redundant_perc</th>\n",
       "    </tr>\n",
       "  </thead>\n",
       "  <tbody>\n",
       "    <tr>\n",
       "      <th>0</th>\n",
       "      <td>English</td>\n",
       "      <td>1</td>\n",
       "      <td>4</td>\n",
       "      <td>10</td>\n",
       "      <td>100</td>\n",
       "    </tr>\n",
       "    <tr>\n",
       "      <th>1</th>\n",
       "      <td>English</td>\n",
       "      <td>1</td>\n",
       "      <td>16</td>\n",
       "      <td>10</td>\n",
       "      <td>100</td>\n",
       "    </tr>\n",
       "    <tr>\n",
       "      <th>2</th>\n",
       "      <td>English</td>\n",
       "      <td>2</td>\n",
       "      <td>4</td>\n",
       "      <td>10</td>\n",
       "      <td>0</td>\n",
       "    </tr>\n",
       "    <tr>\n",
       "      <th>3</th>\n",
       "      <td>English</td>\n",
       "      <td>2</td>\n",
       "      <td>16</td>\n",
       "      <td>10</td>\n",
       "      <td>0</td>\n",
       "    </tr>\n",
       "    <tr>\n",
       "      <th>4</th>\n",
       "      <td>English</td>\n",
       "      <td>3</td>\n",
       "      <td>4</td>\n",
       "      <td>10</td>\n",
       "      <td>100</td>\n",
       "    </tr>\n",
       "    <tr>\n",
       "      <th>5</th>\n",
       "      <td>English</td>\n",
       "      <td>3</td>\n",
       "      <td>16</td>\n",
       "      <td>10</td>\n",
       "      <td>100</td>\n",
       "    </tr>\n",
       "  </tbody>\n",
       "</table>\n",
       "</div>"
      ],
      "text/plain": [
       "  language  subject  items  n_questions  redundant_perc\n",
       "0  English        1      4           10             100\n",
       "1  English        1     16           10             100\n",
       "2  English        2      4           10               0\n",
       "3  English        2     16           10               0\n",
       "4  English        3      4           10             100\n",
       "5  English        3     16           10             100"
      ]
     },
     "execution_count": 2,
     "metadata": {},
     "output_type": "execute_result"
    }
   ],
   "source": [
    "# read in data\n",
    "df = pd.read_csv(\"./data/blue_triangle.csv\")\n",
    "\n",
    "# display first six rows\n",
    "df.head(6)"
   ]
  },
  {
   "cell_type": "markdown",
   "id": "9e2dc84f-c8ea-4ffc-8dc0-e3a3e4123768",
   "metadata": {},
   "source": [
    "The code output above shows the top six rows of the data. The full dataset has 88 rows. Remember that there are a total of 44 subjects in the study (22 English and 22 Spanish speakers). There are two rows in the dataset for each of the subjects: one representing data from when they were shown an image with 4 items on it and the other with 16 items on it. Each subject was asked 10 questions for each type of image (with a different layout of items on the image for each question). The variable of interest to us is `redundant_perc`, which gives the percentage of questions the subject used a redundant adjective to identify \"the blue triangle\". Note that the variable is \"percentage\", and we are interested in the average percentage. Therefore, we will use methods for means. If the variable had been \"success or failure\" (e.g., \"used redundant or didn’t\"), we would have used methods for proportions."
   ]
  },
  {
   "cell_type": "markdown",
   "id": "4ece5978-6839-443b-bd68-6c02dc07e08d",
   "metadata": {},
   "source": [
    "## Your task\n",
    "\n",
    "You are to attempt the following three analyses:\n",
    "\n",
    "### 1) Exploratory analysis\n",
    "\n",
    "**Conduct an exploratory analysis**. Use code to summarize the results of the experiment, which you can report in written, tabular, and/or graphical format.\n",
    "\n",
    "*Hint:* there should be four statistics, showing the percentage of redundant adjective use by language (English vs. Spanish speakers) and by number of items in image (4 objects vs. 16 objects)."
   ]
  },
  {
   "cell_type": "markdown",
   "id": "20d2f328-954c-4b4f-bfba-a720f9eb5699",
   "metadata": {},
   "source": [
    "### 2) Sparse vs dense displays\n",
    "\n",
    "**Address the following question: \"Do the data provide convincing evidence of a difference in mean redundant adjective usage percentages between sparse (4 item) and dense (16 item) displays for English speakers?”** Note that the English speaking participants were each evaluated on both the 4 item and the 16 item displays. Therefore, the variable of interest is the difference in redundant percentage. Code has been provided below that calculates the difference in redundant percentage.\n",
    "\n",
    "*Hint:* the [permutation pairs](https://lisds.github.io/textbook/permutation/permutation_pairs.html) code might help with the rest of the question...as this is paired data."
   ]
  },
  {
   "cell_type": "code",
   "execution_count": 3,
   "id": "cde0a728-252b-4b50-af29-1c14f7e1976f",
   "metadata": {},
   "outputs": [
    {
     "data": {
      "text/html": [
       "<div>\n",
       "<style scoped>\n",
       "    .dataframe tbody tr th:only-of-type {\n",
       "        vertical-align: middle;\n",
       "    }\n",
       "\n",
       "    .dataframe tbody tr th {\n",
       "        vertical-align: top;\n",
       "    }\n",
       "\n",
       "    .dataframe thead th {\n",
       "        text-align: right;\n",
       "    }\n",
       "</style>\n",
       "<table border=\"1\" class=\"dataframe\">\n",
       "  <thead>\n",
       "    <tr style=\"text-align: right;\">\n",
       "      <th>items</th>\n",
       "      <th>4</th>\n",
       "      <th>16</th>\n",
       "      <th>diff_redundant_perc</th>\n",
       "    </tr>\n",
       "    <tr>\n",
       "      <th>subject</th>\n",
       "      <th></th>\n",
       "      <th></th>\n",
       "      <th></th>\n",
       "    </tr>\n",
       "  </thead>\n",
       "  <tbody>\n",
       "    <tr>\n",
       "      <th>1</th>\n",
       "      <td>100</td>\n",
       "      <td>100</td>\n",
       "      <td>0</td>\n",
       "    </tr>\n",
       "    <tr>\n",
       "      <th>2</th>\n",
       "      <td>0</td>\n",
       "      <td>0</td>\n",
       "      <td>0</td>\n",
       "    </tr>\n",
       "    <tr>\n",
       "      <th>3</th>\n",
       "      <td>100</td>\n",
       "      <td>100</td>\n",
       "      <td>0</td>\n",
       "    </tr>\n",
       "    <tr>\n",
       "      <th>4</th>\n",
       "      <td>10</td>\n",
       "      <td>80</td>\n",
       "      <td>70</td>\n",
       "    </tr>\n",
       "    <tr>\n",
       "      <th>5</th>\n",
       "      <td>0</td>\n",
       "      <td>90</td>\n",
       "      <td>90</td>\n",
       "    </tr>\n",
       "    <tr>\n",
       "      <th>6</th>\n",
       "      <td>0</td>\n",
       "      <td>70</td>\n",
       "      <td>70</td>\n",
       "    </tr>\n",
       "  </tbody>\n",
       "</table>\n",
       "</div>"
      ],
      "text/plain": [
       "items      4   16  diff_redundant_perc\n",
       "subject                               \n",
       "1        100  100                    0\n",
       "2          0    0                    0\n",
       "3        100  100                    0\n",
       "4         10   80                   70\n",
       "5          0   90                   90\n",
       "6          0   70                   70"
      ]
     },
     "execution_count": 3,
     "metadata": {},
     "output_type": "execute_result"
    }
   ],
   "source": [
    "# filter for English speakers\n",
    "df_english = df[df[\"language\"] == \"English\"]\n",
    "# pivot to create wide format dataframe\n",
    "df_english_wide = df_english.pivot(index = \"subject\", columns = \"items\", values = \"redundant_perc\")\n",
    "# create new variable diff_redundant_perc\n",
    "df_english_wide[\"diff_redundant_perc\"] = (df_english_wide[16] - df_english_wide[4])\n",
    "# inspect new dataframe\n",
    "df_english_wide.head(6)"
   ]
  },
  {
   "cell_type": "markdown",
   "id": "f4d2479f-d1da-4a18-a5f3-30a9a7eb78a9",
   "metadata": {},
   "source": [
    "### 3) English vs Spanish speakers\n",
    "\n",
    "**Address the following question: \"How does redundant adjective usage differ between English speakers and Spanish speakers?\"** The English speakers are independent from the Spanish speakers, but since the same subjects were shown the two types of displays, we can't combine data from the two display types (4 objects and 16 objects) together while maintaining independence of observations. Therefore, to answer questions about language differences, we will need to conduct two hypothesis tests, one for sparse displays and the other for dense displays.\n",
    "   \n",
    "*Hint:* the [population and permutation](https://lisds.github.io/textbook/permutation/population_permutation.html) page, and the subsequent two pages, might help with this question...\n",
    "\n",
    "*Hint Hint:* you do not need to manipulate the dataframe as in question 2, but you might need to filter for the two display types."
   ]
  },
  {
   "cell_type": "code",
   "execution_count": null,
   "id": "3b06ecde-1a57-460b-8d25-56fc3145980f",
   "metadata": {},
   "outputs": [],
   "source": []
  }
 ],
 "metadata": {
  "kernelspec": {
   "display_name": "Python 3 (ipykernel)",
   "language": "python",
   "name": "python3"
  },
  "language_info": {
   "codemirror_mode": {
    "name": "ipython",
    "version": 3
   },
   "file_extension": ".py",
   "mimetype": "text/x-python",
   "name": "python",
   "nbconvert_exporter": "python",
   "pygments_lexer": "ipython3",
   "version": "3.11.6"
  }
 },
 "nbformat": 4,
 "nbformat_minor": 5
}
