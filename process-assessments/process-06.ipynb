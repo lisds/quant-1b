{
 "cells": [
  {
   "cell_type": "markdown",
   "metadata": {},
   "source": [
    "# Process 06: Multiple linear regression"
   ]
  },
  {
   "cell_type": "markdown",
   "metadata": {},
   "source": [
    "## Spotting high-flyers on Spotify"
   ]
  },
  {
   "cell_type": "markdown",
   "metadata": {},
   "source": [
    "The dataset includes over 600,000 tracks between 1921 and 2020, gathered from Spotify. The dataset contains audio features of the tracks, such as tempo, and a popularity metric that you will model. "
   ]
  },
  {
   "cell_type": "code",
   "execution_count": null,
   "metadata": {},
   "outputs": [],
   "source": [
    "# just run!\n",
    "\n",
    "# import packages and call data\n",
    "import warnings\n",
    "warnings.filterwarnings(\"ignore\")\n",
    "\n",
    "import numpy as np\n",
    "import pandas as pd\n",
    "import io\n",
    "import requests\n",
    "\n",
    "df_url = 'https://raw.githubusercontent.com/gabminamedez/spotify-data/refs/heads/master/data.csv'\n",
    "url_content = requests.get(df_url, verify = False).content\n",
    "spotify = pd.read_csv(io.StringIO(url_content.decode('utf-8')))"
   ]
  },
  {
   "cell_type": "code",
   "execution_count": null,
   "metadata": {},
   "outputs": [],
   "source": [
    "# just run!\n",
    "\n",
    "# create 'age' variable\n",
    "spotify['age'] = 2020 - spotify['year']\n",
    "\n",
    "# create 'duration in seconds' variable\n",
    "spotify['duration_secs'] = spotify['duration_ms']/1000"
   ]
  },
  {
   "cell_type": "markdown",
   "metadata": {},
   "source": [
    "The variables are all listed below, but if you need more information, Spotify provide full documentation here: https://developer.spotify.com/documentation/web-api/reference/get-audio-features\n",
    "\n",
    "variable         | description\n",
    "---------------- | -----------\n",
    "`id`             | The Spotify ID for the track.\n",
    "`name`           | The name of the track.\n",
    "`artists`        | The artist(s) of the track.\n",
    "`duration_ms`    | The duration of the track in milliseconds.\n",
    "`release_date`   | The release date of the track.\n",
    "`year`           | The release year of the track.\n",
    "`acousticness`   | A confidence measure from 0.0 to 1.0 of whether the track is acoustic. 1.0 represents high confidence the track is acoustic.\n",
    "`danceability`   | Danceability describes how suitable a track is for dancing based on a combination of musical elements including tempo, rhythm stability, beat strength, and overall regularity. A value of 0.0 is least danceable and 1.0 is most danceable.\n",
    "`energy`         | Energy is a measure from 0.0 to 1.0 and represents a perceptual measure of intensity and activity. Typically, energetic tracks feel fast, loud, and noisy. For example, death metal has high energy, while a Bach prelude scores low on the scale. Perceptual features contributing to this attribute include dynamic range, perceived loudness, timbre, onset rate, and general entropy.\n",
    "`instrumentalness` | Predicts whether a track contains no vocals. \"Ooh\" and \"aah\" sounds are treated as instrumental in this context. Rap or spoken word tracks are clearly \"vocal\". The closer the instrumentalness value is to 1.0, the greater likelihood the track contains no vocal content. Values above 0.5 are intended to represent instrumental tracks, but confidence is higher as the value approaches 1.0.\n",
    "`liveness`        | Detects the presence of an audience in the recording. Higher liveness values represent an increased probability that the track was performed live. A value above 0.8 provides strong likelihood that the track is live.\n",
    "`loudness`        | The overall loudness of a track in decibels (dB). Loudness values are averaged across the entire track and are useful for comparing relative loudness of tracks. Loudness is the quality of a sound that is the primary psychological correlate of physical strength (amplitude). Values typically range between -60 and 0 db.\n",
    "`speechiness`     | Speechiness detects the presence of spoken words in a track. The more exclusively speech-like the recording (e.g. talk show, audio book, poetry), the closer to 1.0 the attribute value. Values above 0.66 describe tracks that are probably made entirely of spoken words. Values between 0.33 and 0.66 describe tracks that may contain both music and speech, either in sections or layered, including such cases as rap music. Values below 0.33 most likely represent music and other non-speech-like tracks.\n",
    "`tempo`           | The overall estimated tempo of a track in beats per minute (BPM). In musical terminology, tempo is the speed or pace of a given piece and derives directly from the average beat duration.\n",
    "`valence`         | A measure from 0.0 to 1.0 describing the musical positiveness conveyed by a track. Tracks with high valence sound more positive (e.g. happy, cheerful, euphoric), while tracks with low valence sound more negative (e.g. sad, depressed, angry).\n",
    "`mode`            | Mode indicates the modality (major or minor) of a track, the type of scale from which its melodic content is derived. Major is represented by 1 and minor is 0.\n",
    "`key`             | The key the track is in. Integers map to pitches using standard Pitch Class notation. E.g. 0 = C, 1 = C♯/D♭, 2 = D, and so on. If no key was detected, the value is -1.\n",
    "`popularity`      | The popularity of the track in 2020. A value of 0 is o popular and 100 is most popular.\n",
    "`explicit`        | Explicit indicates whether the track is marked as featuring explicit content. Explicit is represented by 1 and not explicit is 0.\n",
    "`age`             | The number of years from 2020 since the release year of the track.\n",
    "`duration_secs`   | The duration of the track in seconds."
   ]
  },
  {
   "cell_type": "markdown",
   "metadata": {},
   "source": [
    "## Question 1\n",
    "You will model the outcome `popularity` with six predictors, three of which will be `mode`, `age`, and `explicit`. Pick another three. For each of the six predictors, write whether or not you expect it to have a (positive or negative) association with popularity."
   ]
  },
  {
   "cell_type": "markdown",
   "metadata": {},
   "source": [
    "**Write your answer here**"
   ]
  },
  {
   "cell_type": "markdown",
   "metadata": {},
   "source": [
    "## Question 2\n",
    "Build upon the code below to create a `model_full` that has all six predictors. Display the output and interpret the coefficients."
   ]
  },
  {
   "cell_type": "code",
   "execution_count": null,
   "metadata": {},
   "outputs": [],
   "source": [
    "# model\n",
    "import statsmodels.api as sm\n",
    "\n",
    "formula_string = \"popularity ~ mode + age\"\n",
    "\n",
    "model_full = sm.formula.ols(formula = formula_string, data = spotify)\n",
    "model_full_fitted = model_full.fit()\n",
    "\n",
    "print(model_full_fitted.summary())"
   ]
  },
  {
   "cell_type": "markdown",
   "metadata": {},
   "source": [
    "## Question 3\n",
    "Using backward-selection and p-value as the selection criterion, determine the best `model_final`. You do not need to show all steps in your answer, just the output for the final model."
   ]
  },
  {
   "cell_type": "code",
   "execution_count": null,
   "metadata": {},
   "outputs": [],
   "source": [
    "# model\n",
    "import statsmodels.api as sm\n",
    "\n",
    "formula_string = \"popularity ~ mode + age\"\n",
    "\n",
    "model_final = sm.formula.ols(formula = formula_string, data = spotify)\n",
    "model_final_fitted = model_final.fit()\n",
    "\n",
    "print(model_final_fitted.summary())"
   ]
  },
  {
   "cell_type": "markdown",
   "metadata": {},
   "source": [
    "## Question 4\n",
    "Based on your final model, describe the characteristics of a popular track in 2020."
   ]
  },
  {
   "cell_type": "markdown",
   "metadata": {},
   "source": [
    "## Question 5\n",
    "What issues might there be with the full and/or final model? Could you check?"
   ]
  }
 ],
 "metadata": {
  "kernelspec": {
   "display_name": "Python 3 (ipykernel)",
   "language": "python",
   "name": "python3"
  },
  "language_info": {
   "codemirror_mode": {
    "name": "ipython",
    "version": 3
   },
   "file_extension": ".py",
   "mimetype": "text/x-python",
   "name": "python",
   "nbconvert_exporter": "python",
   "pygments_lexer": "ipython3",
   "version": "3.11.6"
  }
 },
 "nbformat": 4,
 "nbformat_minor": 4
}
