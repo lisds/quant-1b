{
 "cells": [
  {
   "cell_type": "markdown",
   "id": "ba88aed7-af33-4023-bd5a-7972806181db",
   "metadata": {},
   "source": [
    "# Making sure research is reproducible\n",
    "\n",
    "The figure below shows the (idealized) hypothetico-deductive model of the scientific method. Several potential threats to the model have been indicated in red. The figure is from Munafò *et al.* (2017), available at https://doi.org/10.1038/s41562-016-0021.\n",
    "\n",
    "![](threats-reproducible-science.png)"
   ]
  },
  {
   "cell_type": "markdown",
   "id": "04ece269-8383-4c85-8691-d5ff050f1455",
   "metadata": {},
   "source": [
    "Your task is to write no more than 550 words detailing how these threats undermine the robustness of published research."
   ]
  },
  {
   "cell_type": "markdown",
   "id": "364b4a0e-0bb6-4462-8cac-743f4fc0324f",
   "metadata": {},
   "source": [
    "*Your answer here*"
   ]
  }
 ],
 "metadata": {
  "kernelspec": {
   "display_name": "Python 3 (ipykernel)",
   "language": "python",
   "name": "python3"
  },
  "language_info": {
   "codemirror_mode": {
    "name": "ipython",
    "version": 3
   },
   "file_extension": ".py",
   "mimetype": "text/x-python",
   "name": "python",
   "nbconvert_exporter": "python",
   "pygments_lexer": "ipython3",
   "version": "3.11.6"
  }
 },
 "nbformat": 4,
 "nbformat_minor": 5
}
