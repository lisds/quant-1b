{
 "cells": [
  {
   "cell_type": "markdown",
   "id": "019604e6-6084-48e4-8004-fa04ef4e2382",
   "metadata": {},
   "source": [
    "# First principles\n",
    "\n",
    "This is a sparse notebook for you to practice creating contingency tables and using the `repeat` function."
   ]
  },
  {
   "cell_type": "markdown",
   "id": "f7929786-5cfd-4197-b639-62d05e6c50b0",
   "metadata": {},
   "source": [
    "## Cross-tabulation"
   ]
  },
  {
   "cell_type": "code",
   "execution_count": null,
   "id": "70e0d56d-821d-49dd-9e16-668ac5ddc048",
   "metadata": {},
   "outputs": [],
   "source": [
    "# Import modules\n",
    "import numpy as np\n",
    "import pandas as pd\n",
    "# Safe setting for Pandas.  Needs Pandas version >= 1.5.\n",
    "pd.set_option('mode.copy_on_write', True)\n",
    "\n",
    "# Load the dataset\n",
    "df = pd.read_csv(\"../data/titanic_clean.csv\")\n",
    "df.head()"
   ]
  },
  {
   "cell_type": "markdown",
   "id": "9c3fe3f2-c395-4d6a-a41a-faeb47013639",
   "metadata": {},
   "source": [
    "### DIY\n",
    "\n",
    "Use the titanic dataset, and any variables of interest, to do the following exercises:\n",
    "\n",
    "1) Create a one-way table\n",
    "2) Create a two-way table\n",
    "3) Create a three/four/five-way table\n",
    "\n",
    "For the latter two, explore calculating proportions across rows vs. columns.\n",
    "\n",
    "*Extension*: use `df['name'].str[0]` to extract first letter of the names, and create a contigency table based on this."
   ]
  },
  {
   "cell_type": "code",
   "execution_count": null,
   "id": "a28bb75c-47c8-4b38-a8a6-9a8c7a2ae043",
   "metadata": {},
   "outputs": [],
   "source": [
    "# One-way table"
   ]
  },
  {
   "cell_type": "code",
   "execution_count": null,
   "id": "1afd2e91-6446-4718-860a-50d66fe1f832",
   "metadata": {},
   "outputs": [],
   "source": [
    "# Two-way table"
   ]
  },
  {
   "cell_type": "code",
   "execution_count": null,
   "id": "be1c437f-96a8-4935-ad7e-025b629615b1",
   "metadata": {},
   "outputs": [],
   "source": [
    "# Multiple-way table"
   ]
  },
  {
   "cell_type": "markdown",
   "id": "776b5e08-f249-47d3-aad5-c2b86040df41",
   "metadata": {},
   "source": [
    "## Repeat\n",
    "\n",
    "Play around with the `numpy` `repeat` function! Before you run the next two examples, guess what the output will be."
   ]
  },
  {
   "cell_type": "code",
   "execution_count": null,
   "id": "a7bfd2fe-1a98-4673-a0c7-8f66b0cd7448",
   "metadata": {},
   "outputs": [],
   "source": [
    "import numpy as np"
   ]
  },
  {
   "cell_type": "code",
   "execution_count": null,
   "id": "3d7df669-2832-49ca-81b4-8d72ba3d3fa6",
   "metadata": {},
   "outputs": [],
   "source": [
    "# Simple example\n",
    "np.repeat(2, 5)"
   ]
  },
  {
   "cell_type": "code",
   "execution_count": null,
   "id": "e789a894-cdd6-4479-b125-0d5a86bc9b32",
   "metadata": {},
   "outputs": [],
   "source": [
    "# Slightly less simple example\n",
    "np.repeat([\"Blue\", \"Triangle\"], [2, 3])"
   ]
  },
  {
   "cell_type": "markdown",
   "id": "d4d2043e-039c-4cf4-8963-2ffb6fd7d158",
   "metadata": {},
   "source": [
    "*Extension*: create an array with the number of rooms on each floor of LIS."
   ]
  },
  {
   "cell_type": "code",
   "execution_count": null,
   "id": "d9373599-49e4-4ec9-acdb-e883b8b9fea4",
   "metadata": {},
   "outputs": [],
   "source": []
  }
 ],
 "metadata": {
  "kernelspec": {
   "display_name": "Python 3 (ipykernel)",
   "language": "python",
   "name": "python3"
  },
  "language_info": {
   "codemirror_mode": {
    "name": "ipython",
    "version": 3
   },
   "file_extension": ".py",
   "mimetype": "text/x-python",
   "name": "python",
   "nbconvert_exporter": "python",
   "pygments_lexer": "ipython3",
   "version": "3.11.6"
  }
 },
 "nbformat": 4,
 "nbformat_minor": 5
}
