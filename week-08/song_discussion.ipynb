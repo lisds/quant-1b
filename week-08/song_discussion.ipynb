{
 "cells": [
  {
   "cell_type": "markdown",
   "id": "77d169ec",
   "metadata": {},
   "source": [
    "# Discussion: Classifying Songs by Lyrics\n",
    "\n",
    "## About this exercise\n",
    "\n",
    "This exercise is an edited version of a lab (lab 09, fall 2016) from [the\n",
    "Berkeley data science course](https://github.com/data-8/data8assets) with\n",
    "thanks.  If you make a new version of this original, please note that this\n",
    "exercise has a [CC-BY-NC\n",
    "license](http://creativecommons.org/licenses/by-nc/4.0/); remember to give\n",
    "attribution to the original authors from the repository above.\n",
    "\n",
    "## Song lyrics\n",
    "\n",
    "Consider the task of trying to classify songs into genre by looking at their\n",
    "lyrics (the words in the song).  Each observation is a song.  Every song's\n",
    "genre is either hip-hop or country.  There is one attribute for every word\n",
    "that's in any song.  A song's value for an attribute is the *proportion* of\n",
    "the song's lyrics that are that word.\n",
    "\n",
    "In this discussion, we'll limit ourselves to just two attributes: the frequency of the word \"truck\" and the frequency of the word \"style\".  It's easiest to see this with a picture.\n",
    "\n",
    "<img src=\"classification.jpg\">"
   ]
  },
  {
   "cell_type": "markdown",
   "id": "f37c92c1",
   "metadata": {},
   "source": [
    "The hollow blue triangle labeled 7 represents one hip-hop song.  The graph says that song contains a few instances of the word \"truck\" - around 2% of its lyrics - and a few more instances of the world \"style\" - around 3%.\n",
    "\n",
    "Whenever you build a classifier, it's important to have a separate dataset to test it on.  This is called a *test set*.  The hollow shapes represent songs in the test set, and the filled-in shapes represent songs in the training set.  The test set songs have been labeled with numbers.\n",
    "\n",
    "**Question 1.** Suppose you train a 1-nearest neighbor classifier on the training set.  For each song in the test set, find its nearest neighbor and draw a line between them.  To to this you can:\n",
    "\n",
    "* Indicate the line by moving the mouse on your screen.  You'll have to\n",
    "  remember your choices, and record them in the table below; or\n",
    "* Print out a copy of the graph above;\n",
    "* Download the image (right click, \"Save image as\" or similar), and then edit\n",
    "  in your favorite drawing application (e.g. Powerpoint, Inkscape (free))\n",
    "* Download the image, and then upload the image to a site like\n",
    "  <https://drawisland.com> and draw there.\n",
    "\n",
    "How will the classifier classify each song in the test set?  Which labels are\n",
    "correct?  (For convenience, we've written in the actual label of each song.)"
   ]
  },
  {
   "cell_type": "markdown",
   "id": "3ab07d6c",
   "metadata": {
    "for_assignment_type": "student"
   },
   "source": [
    "||1|2|3|4|5|6|7|8|9|10|\n",
    "|-|-|-|-|-|-|-|-|-|-|-|\n",
    "|True label|c|c|c|c|c|c|h|h|h|h|\n",
    "|Label|||||||||||\n",
    "|Correct?|||||||||||"
   ]
  },
  {
   "cell_type": "markdown",
   "id": "9ee8ead6",
   "metadata": {},
   "source": [
    "**Question 2.** What percentage of the test set does the 1-nearest neighbor classifier get right?"
   ]
  },
  {
   "cell_type": "markdown",
   "id": "ee95787b",
   "metadata": {
    "for_assignment_type": "student"
   },
   "source": [
    "<br>"
   ]
  },
  {
   "cell_type": "markdown",
   "id": "4dcef2a4",
   "metadata": {},
   "source": [
    "**Question 3.** Draw the *decision boundaries* of the 1-nearest neighbor classifier in the top-left region of the graph (the region to the left and above song 4) and in the bottom-right region of the graph (around song 9)."
   ]
  },
  {
   "cell_type": "markdown",
   "id": "e6366987",
   "metadata": {},
   "source": [
    "**Question 4.** Suppose you train a **3-nearest neighbor** classifier on the training set.\n",
    "\n",
    "For a 3-nearest neighbor classifier, you classify each new song by:\n",
    "\n",
    "* Finding the 3 nearest neighbors.\n",
    "* Finding the label shared by two or all three of the neighbors.\n",
    "* Classifying the new song with the shared label.\n",
    "\n",
    "For each song in the test set, find its next 2 nearest neighbors and draw a line to them.  How will the classifier classify each song in the test set?  Which labels are correct?  What proportion did we get right this time?"
   ]
  },
  {
   "cell_type": "markdown",
   "id": "85b58263",
   "metadata": {
    "for_assignment_type": "student"
   },
   "source": [
    "||1|2|3|4|5|6|7|8|9|10|\n",
    "|-|-|-|-|-|-|-|-|-|-|-|\n",
    "|True label|c|c|c|c|c|c|h|h|h|h|\n",
    "|Label|||||||||||\n",
    "|Correct?|||||||||||"
   ]
  },
  {
   "cell_type": "markdown",
   "id": "d3b8e39e",
   "metadata": {},
   "source": [
    "**Question 5.** Why would it be a bad idea to use a 19-nearest neighbor classifier with this dataset?"
   ]
  },
  {
   "cell_type": "markdown",
   "id": "2df348f3",
   "metadata": {
    "for_assignment_type": "student"
   },
   "source": [
    "<br>\n",
    "<br>"
   ]
  }
 ],
 "metadata": {
  "kernelspec": {
   "display_name": "Python 3 (ipykernel)",
   "language": "python",
   "name": "python3"
  },
  "language_info": {
   "codemirror_mode": {
    "name": "ipython",
    "version": 3
   },
   "file_extension": ".py",
   "mimetype": "text/x-python",
   "name": "python",
   "nbconvert_exporter": "python",
   "pygments_lexer": "ipython3",
   "version": "3.11.6"
  }
 },
 "nbformat": 4,
 "nbformat_minor": 5
}
