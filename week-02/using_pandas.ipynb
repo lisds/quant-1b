{
 "cells": [
  {
   "cell_type": "markdown",
   "id": "8a0c50c1-bc20-4798-a7bb-dbe4b29e232e",
   "metadata": {},
   "source": [
    "# Using pandas\n",
    "\n",
    "Argh, a blank notebook! What do I do?\n",
    "\n",
    "Follow the steps: https://datacarpentry.github.io/python-socialsci/08-Pandas.html"
   ]
  },
  {
   "cell_type": "code",
   "execution_count": null,
   "id": "86ff6266-8786-4d89-9840-8048d1b266f2",
   "metadata": {},
   "outputs": [],
   "source": []
  }
 ],
 "metadata": {
  "kernelspec": {
   "display_name": "Python 3 (ipykernel)",
   "language": "python",
   "name": "python3"
  },
  "language_info": {
   "codemirror_mode": {
    "name": "ipython",
    "version": 3
   },
   "file_extension": ".py",
   "mimetype": "text/x-python",
   "name": "python",
   "nbconvert_exporter": "python",
   "pygments_lexer": "ipython3",
   "version": "3.11.6"
  }
 },
 "nbformat": 4,
 "nbformat_minor": 5
}
